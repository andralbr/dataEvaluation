{
 "cells": [
  {
   "cell_type": "markdown",
   "metadata": {},
   "source": [
    "# Evaluate Usage Data"
   ]
  },
  {
   "cell_type": "code",
   "execution_count": 1,
   "metadata": {},
   "outputs": [],
   "source": [
    "# ------------------\n",
    "# Import libraries\n",
    "# ------------------\n",
    "\n",
    "import pandas as pd  # Provides dataframe   \n",
    "import matplotlib.pyplot as plt  # Plot data\n",
    "import pickle        # Save and load data"
   ]
  },
  {
   "cell_type": "markdown",
   "metadata": {},
   "source": [
    "## Import dataframe and license info"
   ]
  },
  {
   "cell_type": "code",
   "execution_count": 2,
   "metadata": {},
   "outputs": [
    {
     "data": {
      "text/html": [
       "<div>\n",
       "<style scoped>\n",
       "    .dataframe tbody tr th:only-of-type {\n",
       "        vertical-align: middle;\n",
       "    }\n",
       "\n",
       "    .dataframe tbody tr th {\n",
       "        vertical-align: top;\n",
       "    }\n",
       "\n",
       "    .dataframe thead th {\n",
       "        text-align: right;\n",
       "    }\n",
       "</style>\n",
       "<table border=\"1\" class=\"dataframe\">\n",
       "  <thead>\n",
       "    <tr style=\"text-align: right;\">\n",
       "      <th></th>\n",
       "      <th>License Number</th>\n",
       "      <th>Version</th>\n",
       "      <th>Start time</th>\n",
       "      <th>End time</th>\n",
       "      <th>Toolbox</th>\n",
       "    </tr>\n",
       "  </thead>\n",
       "  <tbody>\n",
       "    <tr>\n",
       "      <th>0</th>\n",
       "      <td>102</td>\n",
       "      <td>1.0</td>\n",
       "      <td>2020-05-25 08:30:00</td>\n",
       "      <td>2020-05-25 09:30:00</td>\n",
       "      <td>Matlab</td>\n",
       "    </tr>\n",
       "    <tr>\n",
       "      <th>1</th>\n",
       "      <td>102</td>\n",
       "      <td>1.0</td>\n",
       "      <td>2020-05-25 10:15:00</td>\n",
       "      <td>2020-05-25 10:30:00</td>\n",
       "      <td>Matlab</td>\n",
       "    </tr>\n",
       "    <tr>\n",
       "      <th>2</th>\n",
       "      <td>102</td>\n",
       "      <td>1.0</td>\n",
       "      <td>2020-05-27 07:00:00</td>\n",
       "      <td>2020-05-27 17:30:00</td>\n",
       "      <td>Matlab</td>\n",
       "    </tr>\n",
       "    <tr>\n",
       "      <th>3</th>\n",
       "      <td>101</td>\n",
       "      <td>1.0</td>\n",
       "      <td>2020-05-24 10:15:00</td>\n",
       "      <td>2020-05-24 10:30:00</td>\n",
       "      <td>Matlab</td>\n",
       "    </tr>\n",
       "    <tr>\n",
       "      <th>4</th>\n",
       "      <td>101</td>\n",
       "      <td>1.0</td>\n",
       "      <td>2020-05-24 17:15:00</td>\n",
       "      <td>2020-05-24 18:00:00</td>\n",
       "      <td>Matlab</td>\n",
       "    </tr>\n",
       "    <tr>\n",
       "      <th>5</th>\n",
       "      <td>101</td>\n",
       "      <td>1.0</td>\n",
       "      <td>2020-05-25 11:00:00</td>\n",
       "      <td>2020-05-25 15:00:00</td>\n",
       "      <td>Matlab</td>\n",
       "    </tr>\n",
       "  </tbody>\n",
       "</table>\n",
       "</div>"
      ],
      "text/plain": [
       "  License Number  Version          Start time            End time Toolbox\n",
       "0            102      1.0 2020-05-25 08:30:00 2020-05-25 09:30:00  Matlab\n",
       "1            102      1.0 2020-05-25 10:15:00 2020-05-25 10:30:00  Matlab\n",
       "2            102      1.0 2020-05-27 07:00:00 2020-05-27 17:30:00  Matlab\n",
       "3            101      1.0 2020-05-24 10:15:00 2020-05-24 10:30:00  Matlab\n",
       "4            101      1.0 2020-05-24 17:15:00 2020-05-24 18:00:00  Matlab\n",
       "5            101      1.0 2020-05-25 11:00:00 2020-05-25 15:00:00  Matlab"
      ]
     },
     "metadata": {},
     "output_type": "display_data"
    },
    {
     "data": {
      "text/plain": [
       "{101: ['Matlab', 'Simulink'],\n",
       " 102: ['Matlab'],\n",
       " 105: ['Matlab'],\n",
       " 113: ['Matlab', 'Simulink']}"
      ]
     },
     "execution_count": 2,
     "metadata": {},
     "output_type": "execute_result"
    }
   ],
   "source": [
    "# ---------------------------------------\n",
    "# Import dataframe and license info dict\n",
    "# ---------------------------------------\n",
    "\n",
    "#### PARAMETER SETTING #################\n",
    "datasetFileName      = \"myDataFrame.pkl\" \n",
    "licenseInfoFileName = \"licenseInfo.pkl\"\n",
    "########################################\n",
    "\n",
    "# Load dataframe\n",
    "dataset = pd.read_pickle(datasetFileName)\n",
    "\n",
    "# Load license info data\n",
    "with open( licenseInfoFileName, 'rb') as f:\n",
    "    licenseInfo = pickle.load(f)\n",
    "    \n",
    "# Show data\n",
    "display(dataset.head(6))\n",
    "\n",
    "licenseInfo"
   ]
  },
  {
   "cell_type": "markdown",
   "metadata": {},
   "source": [
    "# Evaluate overall usage (= all users)"
   ]
  },
  {
   "cell_type": "code",
   "execution_count": 3,
   "metadata": {},
   "outputs": [],
   "source": [
    "#### PARAMETER SETTING #############\n",
    "\n",
    "# Filter by start & end time\n",
    "startTime = '26.05.2020 00:00'\n",
    "endTime   = '30.05.2020 23:59'\n",
    "\n",
    "# Toolboxes to be considered \n",
    "#toolboxes = [\"Matlab\"]   \n",
    "toolboxes = None   # None =  all toolboxes"
   ]
  },
  {
   "cell_type": "code",
   "execution_count": 4,
   "metadata": {},
   "outputs": [
    {
     "data": {
      "text/html": [
       "<div>\n",
       "<style scoped>\n",
       "    .dataframe tbody tr th:only-of-type {\n",
       "        vertical-align: middle;\n",
       "    }\n",
       "\n",
       "    .dataframe tbody tr th {\n",
       "        vertical-align: top;\n",
       "    }\n",
       "\n",
       "    .dataframe thead th {\n",
       "        text-align: right;\n",
       "    }\n",
       "</style>\n",
       "<table border=\"1\" class=\"dataframe\">\n",
       "  <thead>\n",
       "    <tr style=\"text-align: right;\">\n",
       "      <th></th>\n",
       "      <th></th>\n",
       "      <th>Usage time</th>\n",
       "    </tr>\n",
       "    <tr>\n",
       "      <th>License Number</th>\n",
       "      <th>Toolbox</th>\n",
       "      <th></th>\n",
       "    </tr>\n",
       "  </thead>\n",
       "  <tbody>\n",
       "    <tr>\n",
       "      <th>113</th>\n",
       "      <th>Matlab</th>\n",
       "      <td>0.000000</td>\n",
       "    </tr>\n",
       "    <tr>\n",
       "      <th>105</th>\n",
       "      <th>Matlab</th>\n",
       "      <td>2.150000</td>\n",
       "    </tr>\n",
       "    <tr>\n",
       "      <th>102</th>\n",
       "      <th>Matlab</th>\n",
       "      <td>10.500000</td>\n",
       "    </tr>\n",
       "    <tr>\n",
       "      <th>101</th>\n",
       "      <th>Matlab</th>\n",
       "      <td>26.266667</td>\n",
       "    </tr>\n",
       "  </tbody>\n",
       "</table>\n",
       "</div>"
      ],
      "text/plain": [
       "                        Usage time\n",
       "License Number Toolbox            \n",
       "113            Matlab     0.000000\n",
       "105            Matlab     2.150000\n",
       "102            Matlab    10.500000\n",
       "101            Matlab    26.266667"
      ]
     },
     "metadata": {},
     "output_type": "display_data"
    },
    {
     "data": {
      "text/html": [
       "<div>\n",
       "<style scoped>\n",
       "    .dataframe tbody tr th:only-of-type {\n",
       "        vertical-align: middle;\n",
       "    }\n",
       "\n",
       "    .dataframe tbody tr th {\n",
       "        vertical-align: top;\n",
       "    }\n",
       "\n",
       "    .dataframe thead th {\n",
       "        text-align: right;\n",
       "    }\n",
       "</style>\n",
       "<table border=\"1\" class=\"dataframe\">\n",
       "  <thead>\n",
       "    <tr style=\"text-align: right;\">\n",
       "      <th></th>\n",
       "      <th></th>\n",
       "      <th>Usage time</th>\n",
       "    </tr>\n",
       "    <tr>\n",
       "      <th>License Number</th>\n",
       "      <th>Toolbox</th>\n",
       "      <th></th>\n",
       "    </tr>\n",
       "  </thead>\n",
       "  <tbody>\n",
       "    <tr>\n",
       "      <th>101</th>\n",
       "      <th>Simulink</th>\n",
       "      <td>0.0</td>\n",
       "    </tr>\n",
       "    <tr>\n",
       "      <th>113</th>\n",
       "      <th>Simulink</th>\n",
       "      <td>0.0</td>\n",
       "    </tr>\n",
       "  </tbody>\n",
       "</table>\n",
       "</div>"
      ],
      "text/plain": [
       "                         Usage time\n",
       "License Number Toolbox             \n",
       "101            Simulink         0.0\n",
       "113            Simulink         0.0"
      ]
     },
     "metadata": {},
     "output_type": "display_data"
    },
    {
     "data": {
      "image/png": "[encoded data removed]",
      "text/plain": [
       "<Figure size 432x288 with 1 Axes>"
      ]
     },
     "metadata": {
      "needs_background": "light"
     },
     "output_type": "display_data"
    },
    {
     "data": {
      "image/png": "[encoded data removed]",
      "text/plain": [
       "<Figure size 432x288 with 1 Axes>"
      ]
     },
     "metadata": {
      "needs_background": "light"
     },
     "output_type": "display_data"
    }
   ],
   "source": [
    "# ------------------------------------\n",
    "# Calculate, list and plot usage time\n",
    "# ------------------------------------\n",
    "\n",
    "# Convert start-end time to pandas timestamp\n",
    "startTime = pd.to_datetime(startTime, format='%d.%m.%Y %H:%M')\n",
    "endTime = pd.to_datetime(endTime, format='%d.%m.%Y %H:%M')\n",
    "\n",
    "# Filter dataframe by date and time\n",
    "filterStart = (dataset['Start time'] >= startTime)\n",
    "filterEnd =   (dataset['End time']   <= endTime)\n",
    "\n",
    "datasetTime = dataset[filterStart & filterEnd] \n",
    "\n",
    "# Add \"dummy\" entries of zero time for each license and toolbox\n",
    "for key, values in licenseInfo.items():\n",
    "    for tbox in values:\n",
    "        new_row = {'License Number':key, 'Version':'0.0', 'Start time':startTime, 'End time':startTime, 'Toolbox':tbox }\n",
    "        #display(new_row)\n",
    "        datasetTime = datasetTime.append(new_row, ignore_index=True)\n",
    "\n",
    "# Add new column (Usage time in hours)        \n",
    "datasetTime['Usage time'] = (datasetTime['End time']-datasetTime['Start time']).dt.total_seconds()/(60*60)  \n",
    "\n",
    "\n",
    "# Filter by toolboxes, list and plot data\n",
    "if not toolboxes:\n",
    "    toolboxes = datasetTime['Toolbox'].unique()\n",
    "    \n",
    "for toolbox in toolboxes:\n",
    "    data_view = datasetTime[datasetTime['Toolbox'] == toolbox]\n",
    "    data_view = data_view[['License Number','Toolbox','Usage time']].groupby(['License Number','Toolbox']).sum()\n",
    "    data_view = data_view.sort_values(by=['Toolbox','Usage time'], ascending=True)\n",
    "    display(data_view)\n",
    "\n",
    "    data_view.plot(kind = 'hist', bins = 10, title = toolbox, density = True)"
   ]
  },
  {
   "cell_type": "markdown",
   "metadata": {},
   "source": [
    "# Evaluate individual usage (= one license)"
   ]
  },
  {
   "cell_type": "code",
   "execution_count": 7,
   "metadata": {},
   "outputs": [
    {
     "name": "stdout",
     "output_type": "stream",
     "text": [
      "Available toolboxes for license No. 101:\n"
     ]
    },
    {
     "data": {
      "text/plain": [
       "['Matlab', 'Simulink']"
      ]
     },
     "execution_count": 7,
     "metadata": {},
     "output_type": "execute_result"
    }
   ],
   "source": [
    "### PARAMETER SETTING ##########\n",
    "\n",
    "# license number\n",
    "licenseNo = 101\n",
    "\n",
    "# time filter\n",
    "startTime = '26.05.2019 00:00'\n",
    "endTime   = '30.05.2022 23:59'\n",
    "\n",
    "#################################\n",
    "\n",
    "print(\"Available toolboxes for license No. \" + str(licenseNo) + \":\")\n",
    "licenseInfo[licenseNo]"
   ]
  },
  {
   "cell_type": "code",
   "execution_count": 12,
   "metadata": {},
   "outputs": [
    {
     "data": {
      "text/html": [
       "<div>\n",
       "<style scoped>\n",
       "    .dataframe tbody tr th:only-of-type {\n",
       "        vertical-align: middle;\n",
       "    }\n",
       "\n",
       "    .dataframe tbody tr th {\n",
       "        vertical-align: top;\n",
       "    }\n",
       "\n",
       "    .dataframe thead th {\n",
       "        text-align: right;\n",
       "    }\n",
       "</style>\n",
       "<table border=\"1\" class=\"dataframe\">\n",
       "  <thead>\n",
       "    <tr style=\"text-align: right;\">\n",
       "      <th></th>\n",
       "      <th>License Number</th>\n",
       "      <th>Version</th>\n",
       "      <th>Start time</th>\n",
       "      <th>End time</th>\n",
       "      <th>Toolbox</th>\n",
       "      <th>Usage time</th>\n",
       "    </tr>\n",
       "  </thead>\n",
       "  <tbody>\n",
       "    <tr>\n",
       "      <th>0</th>\n",
       "      <td>101</td>\n",
       "      <td>1</td>\n",
       "      <td>2020-05-24 10:15:00</td>\n",
       "      <td>2020-05-24 10:30:00</td>\n",
       "      <td>Matlab</td>\n",
       "      <td>0.250000</td>\n",
       "    </tr>\n",
       "    <tr>\n",
       "      <th>1</th>\n",
       "      <td>101</td>\n",
       "      <td>1</td>\n",
       "      <td>2020-05-24 17:15:00</td>\n",
       "      <td>2020-05-24 18:00:00</td>\n",
       "      <td>Matlab</td>\n",
       "      <td>0.750000</td>\n",
       "    </tr>\n",
       "    <tr>\n",
       "      <th>2</th>\n",
       "      <td>101</td>\n",
       "      <td>1</td>\n",
       "      <td>2020-05-25 11:00:00</td>\n",
       "      <td>2020-05-25 15:00:00</td>\n",
       "      <td>Matlab</td>\n",
       "      <td>4.000000</td>\n",
       "    </tr>\n",
       "    <tr>\n",
       "      <th>3</th>\n",
       "      <td>101</td>\n",
       "      <td>1</td>\n",
       "      <td>2020-05-25 11:15:00</td>\n",
       "      <td>2020-05-25 12:03:00</td>\n",
       "      <td>Simulink</td>\n",
       "      <td>0.800000</td>\n",
       "    </tr>\n",
       "    <tr>\n",
       "      <th>4</th>\n",
       "      <td>101</td>\n",
       "      <td>1</td>\n",
       "      <td>2020-05-28 09:07:00</td>\n",
       "      <td>2020-05-29 11:23:00</td>\n",
       "      <td>Matlab</td>\n",
       "      <td>26.266667</td>\n",
       "    </tr>\n",
       "    <tr>\n",
       "      <th>5</th>\n",
       "      <td>101</td>\n",
       "      <td>0.0</td>\n",
       "      <td>2019-05-26 00:00:00</td>\n",
       "      <td>2019-05-26 00:00:00</td>\n",
       "      <td>Matlab</td>\n",
       "      <td>0.000000</td>\n",
       "    </tr>\n",
       "    <tr>\n",
       "      <th>6</th>\n",
       "      <td>101</td>\n",
       "      <td>0.0</td>\n",
       "      <td>2019-05-26 00:00:00</td>\n",
       "      <td>2019-05-26 00:00:00</td>\n",
       "      <td>Simulink</td>\n",
       "      <td>0.000000</td>\n",
       "    </tr>\n",
       "  </tbody>\n",
       "</table>\n",
       "</div>"
      ],
      "text/plain": [
       "  License Number Version          Start time            End time   Toolbox  \\\n",
       "0            101       1 2020-05-24 10:15:00 2020-05-24 10:30:00    Matlab   \n",
       "1            101       1 2020-05-24 17:15:00 2020-05-24 18:00:00    Matlab   \n",
       "2            101       1 2020-05-25 11:00:00 2020-05-25 15:00:00    Matlab   \n",
       "3            101       1 2020-05-25 11:15:00 2020-05-25 12:03:00  Simulink   \n",
       "4            101       1 2020-05-28 09:07:00 2020-05-29 11:23:00    Matlab   \n",
       "5            101     0.0 2019-05-26 00:00:00 2019-05-26 00:00:00    Matlab   \n",
       "6            101     0.0 2019-05-26 00:00:00 2019-05-26 00:00:00  Simulink   \n",
       "\n",
       "   Usage time  \n",
       "0    0.250000  \n",
       "1    0.750000  \n",
       "2    4.000000  \n",
       "3    0.800000  \n",
       "4   26.266667  \n",
       "5    0.000000  \n",
       "6    0.000000  "
      ]
     },
     "metadata": {},
     "output_type": "display_data"
    },
    {
     "data": {
      "text/html": [
       "<div>\n",
       "<style scoped>\n",
       "    .dataframe tbody tr th:only-of-type {\n",
       "        vertical-align: middle;\n",
       "    }\n",
       "\n",
       "    .dataframe tbody tr th {\n",
       "        vertical-align: top;\n",
       "    }\n",
       "\n",
       "    .dataframe thead th {\n",
       "        text-align: right;\n",
       "    }\n",
       "</style>\n",
       "<table border=\"1\" class=\"dataframe\">\n",
       "  <thead>\n",
       "    <tr style=\"text-align: right;\">\n",
       "      <th></th>\n",
       "      <th></th>\n",
       "      <th>Usage time</th>\n",
       "    </tr>\n",
       "    <tr>\n",
       "      <th>License Number</th>\n",
       "      <th>Toolbox</th>\n",
       "      <th></th>\n",
       "    </tr>\n",
       "  </thead>\n",
       "  <tbody>\n",
       "    <tr>\n",
       "      <th rowspan=\"2\" valign=\"top\">101</th>\n",
       "      <th>Matlab</th>\n",
       "      <td>31.266667</td>\n",
       "    </tr>\n",
       "    <tr>\n",
       "      <th>Simulink</th>\n",
       "      <td>0.800000</td>\n",
       "    </tr>\n",
       "  </tbody>\n",
       "</table>\n",
       "</div>"
      ],
      "text/plain": [
       "                         Usage time\n",
       "License Number Toolbox             \n",
       "101            Matlab     31.266667\n",
       "               Simulink    0.800000"
      ]
     },
     "execution_count": 12,
     "metadata": {},
     "output_type": "execute_result"
    }
   ],
   "source": [
    "# ----------------------------------------------\n",
    "# Create and show total & individual usage time\n",
    "# ----------------------------------------------\n",
    "\n",
    "# Filter by license no\n",
    "datasetUserTime = dataset[dataset['License Number'] == licenseNo]\n",
    "\n",
    "# Filter by date and time\n",
    "startTime = pd.to_datetime(startTime, format='%d.%m.%Y %H:%M')\n",
    "endTime = pd.to_datetime(endTime, format='%d.%m.%Y %H:%M')\n",
    "\n",
    "filterStart = (datasetUserTime['Start time'] >= startTime)\n",
    "filterEnd =   (datasetUserTime['End time']   <= endTime)\n",
    "datasetUserTime = datasetUserTime[filterStart & filterEnd] \n",
    "\n",
    "# Add \"dummy\" entries of zero time for each license and toolbox\n",
    "numberEntries = len(datasetUserTime)\n",
    "\n",
    "for toolbox in licenseInfo[licenseNo]:\n",
    "    new_row = {'License Number':licenseNo, 'Version':'0.0', 'Start time':startTime, 'End time':startTime, 'Toolbox':toolbox }\n",
    "    #display(new_row)\n",
    "    datasetUserTime = datasetUserTime.append(new_row, ignore_index=True)\n",
    "\n",
    "# Add new column (Usage time in hours)        \n",
    "datasetUserTime['Usage time'] = (datasetUserTime['End time']-datasetUserTime['Start time']).dt.total_seconds()/(60*60)  \n",
    "\n",
    "# Display first entries of dataset\n",
    "datasetUserTime.sort_values(by=['Start time', 'License Number'], ascending=True)\n",
    "display(datasetUserTime)\n",
    "\n",
    "# Display total Usage time per toolbox\n",
    "data_view = datasetUserTime[['License Number','Toolbox','Usage time']].groupby(['License Number','Toolbox']).sum()\n",
    "data_view = data_view.sort_values(by=['Toolbox','Usage time'], ascending=True)\n",
    "data_view"
   ]
  },
  {
   "cell_type": "code",
   "execution_count": 15,
   "metadata": {},
   "outputs": [],
   "source": [
    "# -----------------------------------\n",
    "# Function: calcUsageTime()\n",
    "# -----------------------------------\n",
    "\n",
    "# Calculates the usage time for a given licenseNo, toolbox, and time interval.\n",
    "\n",
    "def calcUsageTime(licenseNo, toolbox, startTime, endTime):\n",
    "    \n",
    "    # Filter by user name\n",
    "    datasetUserTime = dataset[dataset['License Number'] == licenseNo]\n",
    "    \n",
    "    # Filter by toolbox\n",
    "    datasetUserTime = datasetUserTime[datasetUserTime['Toolbox'] == toolbox] \n",
    "    \n",
    "    # Filter by date and time\n",
    "    startTime = pd.to_datetime(startTime, format='%d.%m.%Y %H:%M')\n",
    "    endTime = pd.to_datetime(endTime, format='%d.%m.%Y %H:%M')\n",
    "    \n",
    "    filterStart = (datasetUserTime['Start time'] < endTime)\n",
    "    filterEnd =   (datasetUserTime['End time']   > startTime)\n",
    "    datasetUserTime = datasetUserTime[filterStart & filterEnd] \n",
    "    \n",
    "    # Clamp times that overlap neigboring time regions\n",
    "    datasetUserTime[datasetUserTime['Start time'] < startTime] = startTime;\n",
    "    datasetUserTime[datasetUserTime['End time'] > endTime] = endTime;\n",
    "    \n",
    "    # Add \"dummy\" entries of zero time for each license and toolbox\n",
    "    numberEntries = len(datasetUserTime)\n",
    "    \n",
    "    new_row = {'License Number':licenseNo, 'Version':'0.0', 'Start time':startTime, 'End time':startTime, 'Toolbox':toolbox }\n",
    "    datasetUserTime = datasetUserTime.append(new_row, ignore_index=True)\n",
    "    \n",
    "    # Add new column (Usage time in hours)        \n",
    "    datasetUserTime['Usage time'] = (datasetUserTime['End time']-datasetUserTime['Start time']).dt.total_seconds()/(60*60)  \n",
    "    \n",
    "    # Display first entries of dataset\n",
    "    return datasetUserTime['Usage time'].sum()"
   ]
  },
  {
   "cell_type": "code",
   "execution_count": 23,
   "metadata": {},
   "outputs": [
    {
     "data": {
      "text/plain": [
       "Toolbox\n",
       "Matlab      AxesSubplot(0.125,0.125;0.775x0.755)\n",
       "Simulink    AxesSubplot(0.125,0.125;0.775x0.755)\n",
       "dtype: object"
      ]
     },
     "execution_count": 23,
     "metadata": {},
     "output_type": "execute_result"
    },
    {
     "data": {
      "image/png": "[encoded data removed]",
      "text/plain": [
       "<Figure size 1080x216 with 1 Axes>"
      ]
     },
     "metadata": {
      "needs_background": "light"
     },
     "output_type": "display_data"
    }
   ],
   "source": [
    "### PARAMETER SETTING ####\n",
    "licenseNo = 101\n",
    "startDay = '13.05.2020'\n",
    "endDay = '14.06.2020'\n",
    "step = 1 \n",
    "##########################\n",
    "\n",
    "#toolbox = 'Matlab'\n",
    "toolboxes = licenseInfo[licenseNo];\n",
    "\n",
    "\n",
    "userDataset = pd.DataFrame(columns=['Day', 'Toolbox', 'Usage time']);\n",
    "\n",
    "startDay_ts = pd.to_datetime( startDay, format='%d.%m.%Y')\n",
    "endDay_ts = pd.to_datetime( endDay + ' 23:59', format='%d.%m.%Y %H:%M')\n",
    "\n",
    "numberDays = (endDay_ts - startDay_ts).days + 1\n",
    "\n",
    "# Loop over all days within start and end time\n",
    "for toolbox in toolboxes:\n",
    "    day = startDay_ts\n",
    "    idx = 1;\n",
    "    for cc in range(numberDays):\n",
    "        #if day.day_name() == 'Saturday' or day.day_name() == 'Sunday':\n",
    "        #    day = day + pd.Timedelta(days= step)\n",
    "        #    continue;\n",
    "       # print( \"day = \" + str(day) + \" Type = \" + str(day.day_name()))\n",
    "        usageTime = calcUsageTime(licenseNo, toolbox, day, day + pd.Timedelta(days=step))\n",
    "        \n",
    "        new_row = {'Day':day, 'Toolbox':toolbox, 'Usage time':usageTime }\n",
    "        #userDataset = userDataset.append(new_row, ignore_index=True)\n",
    "        #new_row = pd.Series(new_row, name = idx);\n",
    "        new_row = pd.Series(new_row, name = day);\n",
    "        userDataset = userDataset.append(new_row)\n",
    "            \n",
    "        day = day + pd.Timedelta(days= step)\n",
    "        idx = idx + 1;\n",
    "    \n",
    "#display(userDataset)\n",
    "\n",
    "fig1, ax1 = plt.subplots(1,1, figsize = (15, 3))\n",
    "res = userDataset.groupby(['Toolbox'])[['Usage time']]\n",
    "res.plot(style = '--o', ax = ax1) "
   ]
  },
  {
   "cell_type": "code",
   "execution_count": null,
   "metadata": {},
   "outputs": [],
   "source": []
  }
 ],
 "metadata": {
  "kernelspec": {
   "display_name": "Python 3",
   "language": "python",
   "name": "python3"
  },
  "language_info": {
   "codemirror_mode": {
    "name": "ipython",
    "version": 3
   },
   "file_extension": ".py",
   "mimetype": "text/x-python",
   "name": "python",
   "nbconvert_exporter": "python",
   "pygments_lexer": "ipython3",
   "version": "3.7.1"
  }
 },
 "nbformat": 4,
 "nbformat_minor": 2
}
