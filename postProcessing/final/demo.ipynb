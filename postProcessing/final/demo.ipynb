{
 "cells": [
  {
   "cell_type": "code",
   "execution_count": 1,
   "metadata": {},
   "outputs": [],
   "source": [
    "# Import log file processing class\n",
    "from LogProcessor import *"
   ]
  },
  {
   "cell_type": "code",
   "execution_count": 2,
   "metadata": {},
   "outputs": [],
   "source": [
    "###############################\n",
    "# Create instance LogProcessor\n",
    "###############################\n",
    "logProcessor = LogProcessor()\n",
    "\n",
    "# Public class methods:\n",
    "# - .process(fileName, [opt.] outputFile = \"outFile.txt\", \n",
    "#           [opt.] outputDirectory = \"./myFolder\")\n",
    "#   The main method to process data files. fileName can be a single\n",
    "#   file or a list of files [\"file1.csv\", \"file2.csv\", ...]. If outputFile\n",
    "#   given, all outputs are appended to that file; otherwise an output file\n",
    "#   p_[name] is created for each input file.\n",
    "#   WARNING: The output file is always written in append mode. If a file of the\n",
    "#   same name already exists, the output is appended.\n",
    "#\n",
    "# - .setTimeFilter(startTime, endTime)\n",
    "#   with start/end time the start and end time of the filter.\n",
    "#   e.g. startTime = \"16.06.2020 00:00\", endTime = \"17.06.2020 00:00\"\n",
    "#   Sets time filter. Only entries within the time range are processed\n",
    "#   for the output file.\n",
    "#\n",
    "# - .clearTimeFilter()\n",
    "#   Delete time filter.\n",
    "#\n",
    "# - setDateFormat( formatString )\n",
    "#   Set format for output and filter time. \n",
    "#   Default: formatString =  \"%d.%m.%Y %H:%M\"\n",
    "\n",
    "\n"
   ]
  },
  {
   "cell_type": "code",
   "execution_count": 14,
   "metadata": {},
   "outputs": [
    {
     "name": "stdout",
     "output_type": "stream",
     "text": [
      "Examples:\n",
      "---------------------------------\n",
      "Processing file ./testData/data1.csv...\n",
      "---------------------------------\n",
      "\tLines (total, valid) = 5, 4\n",
      "\tNon-terminated processes = 1\n",
      "Output file: p_data1.csv\n",
      "---------------------------------\n",
      "Processing file ./testData/data1.csv...\n",
      "---------------------------------\n",
      "\tLines (total, valid) = 5, 4\n",
      "\tNon-terminated processes = 1\n",
      "Output file: ./out_v2/p_data1.csv\n",
      "---------------------------------\n",
      "Processing file ./testData/data2.csv...\n",
      "---------------------------------\n",
      "\tLines (total, valid) = 8, 6\n",
      "\tNon-terminated processes = 1\n",
      "Output file: ./out_v2/p_data2.csv\n",
      "['./testData/data2.csv', './testData/data1.csv']\n",
      "---------------------------------\n",
      "Processing file ./testData/data2.csv...\n",
      "---------------------------------\n",
      "\tLines (total, valid) = 8, 6\n",
      "\tNon-terminated processes = 1\n",
      "Output file: ./out_v3/p_data2.csv\n",
      "---------------------------------\n",
      "Processing file ./testData/data1.csv...\n",
      "---------------------------------\n",
      "\tLines (total, valid) = 5, 4\n",
      "\tNon-terminated processes = 1\n",
      "Output file: ./out_v3/p_data1.csv\n",
      "---------------------------------\n",
      "Processing file ./testData/data1.csv...\n",
      "---------------------------------\n",
      "\tLines (total, valid) = 5, 4\n",
      "\tNon-terminated processes = 1\n",
      "Output file: allTogether.csv\n",
      "---------------------------------\n",
      "Processing file ./testData/data2.csv...\n",
      "---------------------------------\n",
      "\tLines (total, valid) = 8, 6\n",
      "\tNon-terminated processes = 1\n",
      "Output file: allTogether.csv\n"
     ]
    }
   ],
   "source": [
    "########################\n",
    "# Process data files\n",
    "########################\n",
    "\n",
    "print(\"Examples:\")\n",
    "\n",
    "# ------------------------\n",
    "# Example 1 - Single file\n",
    "# ------------------------\n",
    "# Creates an output file \"p_[fileName]\" in the current directory.\n",
    "\n",
    "logProcessor.process(\"./testData/data1.csv\")\n",
    "\n",
    "# -------------------------------------------------------\n",
    "# Example 2 - Multiple files and define output directory\n",
    "# -------------------------------------------------------\n",
    "files = [\"./testData/data1.csv\", \"./testData/data2.csv\"]\n",
    "logProcessor.process(files, outputDirectory = \"./out_v2\")\n",
    "\n",
    "# ---------------------------------------------------\n",
    "# Example 3 - All files in folder & output directory\n",
    "# ---------------------------------------------------\n",
    "# All files with ending .csv in path\n",
    "path = \"./testData\"\n",
    "allFiles = [os.path.join(path,f) for f in os.listdir(path) if f.endswith('.csv')]\n",
    "\n",
    "logProcessor.process(allFiles, outputDirectory = \"./out_v3\")\n",
    "\n",
    "# --------------------------------------------------------\n",
    "# Example 4 - All files in folder output in a single file\n",
    "# --------------------------------------------------------\n",
    "# All files with ending .csv in path\n",
    "path = \"./testData\"\n",
    "allFiles = [f for f in os.listdir(path) if f.endswith('.csv')]\n",
    "\n",
    "logProcessor.process(files, outputFile = \"allTogether.csv\")"
   ]
  },
  {
   "cell_type": "code",
   "execution_count": 17,
   "metadata": {},
   "outputs": [
    {
     "name": "stdout",
     "output_type": "stream",
     "text": [
      "---------------------------------\n",
      "Processing file ./testData/data2.csv...\n",
      "---------------------------------\n",
      "\tLines (total, valid) = 8, 6\n",
      "\tNon-terminated processes = 1\n",
      "Output file: ./out_v4/p_data2.csv\n",
      "---------------------------------\n",
      "Processing file ./testData/data1.csv...\n",
      "---------------------------------\n",
      "\tLines (total, valid) = 5, 4\n",
      "\tNon-terminated processes = 1\n",
      "Output file: ./out_v4/p_data1.csv\n"
     ]
    }
   ],
   "source": [
    "#####################\n",
    "# Apply time filter\n",
    "#####################\n",
    "\n",
    "# Apply time filter\n",
    "logProcessor.setTimeFilter(\"14.06.2020 00:00\", \"15.06.2020 00:00\")\n",
    "\n",
    "# Process data\n",
    "path = \"./testData\"\n",
    "allFiles = [os.path.join(path,f) for f in os.listdir(path) if f.endswith('.csv')]\n",
    "\n",
    "logProcessor.process(allFiles, outputDirectory = \"./out_v4\")\n",
    "\n",
    "# Clear time filter again\n",
    "logProcessor.clearTimeFilter()"
   ]
  }
 ],
 "metadata": {
  "kernelspec": {
   "display_name": "Python 3",
   "language": "python",
   "name": "python3"
  },
  "language_info": {
   "codemirror_mode": {
    "name": "ipython",
    "version": 3
   },
   "file_extension": ".py",
   "mimetype": "text/x-python",
   "name": "python",
   "nbconvert_exporter": "python",
   "pygments_lexer": "ipython3",
   "version": "3.7.1"
  }
 },
 "nbformat": 4,
 "nbformat_minor": 2
}
