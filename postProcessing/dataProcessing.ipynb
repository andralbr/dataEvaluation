{
 "cells": [
  {
   "cell_type": "code",
   "execution_count": 73,
   "metadata": {},
   "outputs": [],
   "source": [
    "from datetime import date, datetime"
   ]
  },
  {
   "cell_type": "code",
   "execution_count": 20,
   "metadata": {},
   "outputs": [],
   "source": [
    "fileName = \"data.csv\""
   ]
  },
  {
   "cell_type": "code",
   "execution_count": 52,
   "metadata": {},
   "outputs": [
    {
     "name": "stdout",
     "output_type": "stream",
     "text": [
      "Total number of lines = 5\n",
      "Valid lines = 4\n",
      "Non-terminated processes = 1\n"
     ]
    }
   ],
   "source": [
    "# Return: validLines, numberLines\n",
    "openDict = {}    # Dictionary that contains <processID, lineNumber> for a start process.\n",
    "validLines = []  # Lines numbers of valid lines in file\n",
    "\n",
    "\n",
    "with open(fileName, 'r') as readFile:\n",
    "    lineNumber = 0\n",
    "    for line in readFile:\n",
    "\n",
    "        # START line found => add {processID: lineNumber} to openDict\n",
    "        if line.startswith('$START'):\n",
    "            processID = line.split(',')[1]\n",
    "            openDict[processID] = lineNumber\n",
    "\n",
    "        # END line found:\n",
    "        #     - Check if start entry for processID exists\n",
    "        #     - Add line of START and END entry to 'validLines'\n",
    "        #     - Delete START entry from dict openDict\n",
    "        elif line.startswith(\"$END\"):\n",
    "            processID = line.split(',')[1]\n",
    "            if processID in openDict:\n",
    "                validLines.append(openDict[processID])\n",
    "                validLines.append(lineNumber)\n",
    "                del openDict[processID]\n",
    "            \n",
    "        lineNumber = lineNumber + 1\n",
    "\n",
    "numberLines = lineNumber;\n",
    "print(\"Total number of lines = \" + str(lineNumber))\n",
    "print(\"Valid lines = \" + str(len(validLines)))\n",
    "print(\"Non-terminated processes = \" + str(len(openDict)))"
   ]
  },
  {
   "cell_type": "code",
   "execution_count": 115,
   "metadata": {},
   "outputs": [
    {
     "name": "stdout",
     "output_type": "stream",
     "text": [
      "['matlab', 'simulink']\n",
      "['matlab']\n",
      "['matlab', 'simulink']\n"
     ]
    }
   ],
   "source": [
    "lineValid = [False] * numberLines\n",
    "for idx in validLines:\n",
    "    lineValid[idx] = True\n",
    "    \n",
    "noInstances = 0      # Counts how many instances are open at the same time    \n",
    "timeMap = {}      # {ProcessID: time}\n",
    "timeVector = []\n",
    "toolboxes = []\n",
    "\n",
    "with open(fileName, 'r') as readFile:\n",
    "    lineNumber = 0\n",
    "    for line in readFile:\n",
    "        if lineValid[lineNumber]:\n",
    "            \n",
    "            # ------------------------------------------------------------\n",
    "            # START line found => add {processID: lineNumber} to openDict\n",
    "            # ------------------------------------------------------------\n",
    "            if line.startswith('$START'):\n",
    "                line = line.rstrip('\\n')  # remove \\n at end of line\n",
    "                \n",
    "                # Get process ID and time stamp\n",
    "                substr = line.split(',')  # split in substrings\n",
    "                processID = substr[1]     # get process ID\n",
    "                timeStamp = substr[4]     # get time stamp and convert to datetime format\n",
    "                timeStamp = datetime.strptime(timeStamp, \"%d.%m.%Y %H:%M\")\n",
    "                \n",
    "                # Add process ID and time stamp to dict\n",
    "                timeMap[processID] = timeStamp\n",
    "                \n",
    "                # Increase number of active instances\n",
    "                noInstances = noInstances + 1\n",
    "        \n",
    "            # -----------------------------------------------------\n",
    "            # END line found:\n",
    "            # -----------------------------------------------------\n",
    "            \n",
    "            # If the last active instance:\n",
    "            #    - Process time stamps and write output data\n",
    "            # else\n",
    "            #    - Temporarily save [start, end time] and associated toolboxes\n",
    "        \n",
    "            elif line.startswith(\"$END\"):\n",
    "                \n",
    "                # Get data\n",
    "                line = line.rstrip('\\n')  # remove \\n at end of line\n",
    "                \n",
    "                substr = line.split(',')  # split in substrings\n",
    "                \n",
    "                processID = substr[1]\n",
    "                licenseNo = substr[2]\n",
    "                version   = substr[3]\n",
    "                endTime = substr[4]\n",
    "                endTime = datetime.strptime(endTime, \"%d.%m.%Y %H:%M\")\n",
    "                tbox = substr[5].strip('][').split(':')\n",
    "                print(tbox)\n",
    "                \n",
    "                # Add start - end time and toolboxes\n",
    "                if not processID in timeMap:\n",
    "                    print(\"ERROR: (line number = \" + str(lineNumber) + \")\" )\n",
    "                    print(\"No start time found for the end timestamp.\")\n",
    "                    #return\n",
    "                else:\n",
    "                    startTime = timeMap[processID]\n",
    "                    timeVector.append(startTime)\n",
    "                    timeVector.append(endTime)\n",
    "                     \n",
    "                    toolboxes.append(tbox)\n",
    "                    \n",
    "                noInstances = noInstances - 1\n",
    "                \n",
    "                # If was last active instance => process data\n",
    "                if noInstances == 0:\n",
    "                    \n",
    "                    tboxesFlat = [item for sublist in toolboxes for item in sublist]\n",
    "                    uniqueToolboxes = list(set(tboxesFlat)) \n",
    "                    print(uniqueToolboxes)\n",
    "                       \n",
    "                    for tbox in uniqueToolboxes:\n",
    "                        timeVecTbx = []\n",
    "                        \n",
    "        \n",
    "        \n",
    "        lineNumber = lineNumber + 1;"
   ]
  },
  {
   "cell_type": "code",
   "execution_count": 113,
   "metadata": {},
   "outputs": [
    {
     "name": "stdout",
     "output_type": "stream",
     "text": [
      "[datetime.datetime(2020, 6, 16, 16, 30), datetime.datetime(2020, 6, 16, 16, 45), datetime.datetime(2020, 6, 16, 16, 22), datetime.datetime(2020, 6, 16, 18, 5)]\n",
      "[['matlab', 'simulink'], ['matlab']]\n"
     ]
    }
   ],
   "source": [
    "print(timeVector)\n",
    "print(toolboxes)"
   ]
  },
  {
   "cell_type": "code",
   "execution_count": 168,
   "metadata": {},
   "outputs": [],
   "source": [
    "def mergeTimeStamps( timeStamps ):\n",
    "    mergedTimeArray = []\n",
    "    \n",
    "    if len(timeStamps) % 2 != 0:\n",
    "        print(\"[mergeTimeStamps] ERROR: Unexpected number of timestamp entries.\")\n",
    "        return;\n",
    "    \n",
    "    noElements = int(len(timeStamps)/2)   # Total number of timestamps\n",
    "    indices = range(0, noElements)        # Indices for loop over timestamps\n",
    "    activeElements = [True] * noElements  # Indicates, which timestamp elements are yet unprocessed\n",
    "    \n",
    "    # Select first element to be processed\n",
    "    element = [timeStamps[0], timeStamps[1]]\n",
    "    activeElements[0] = False\n",
    "    \n",
    "    while any(activeElements):   # while there ar still unprocessed elements\n",
    "        afterMerge = False\n",
    "        \n",
    "        for n in [idx for idx in indices if activeElements[idx]]:\n",
    "            \n",
    "            timePair = [timeStamps[2*n], timeStamps[2*n + 1]]\n",
    "            if not (timePair[0] > element[1] or timePair[1] < element[0]):\n",
    "                element = [min(element[0], timePair[0]), max(element[1], timePair[1])]\n",
    "                activeElements[n] = False\n",
    "                afterMerge = True\n",
    "                break\n",
    "            \n",
    "        if not afterMerge:\n",
    "            mergedTimeArray = mergedTimeArray + element\n",
    "            \n",
    "            idx = activeElements.index(True)\n",
    "            element = [timeStamps[2*idx], timeStamps[2*idx+1]]\n",
    "            \n",
    "    mergedTimeArray = mergedTimeArray + element\n",
    "    return mergedTimeArray\n",
    "    "
   ]
  },
  {
   "cell_type": "code",
   "execution_count": 192,
   "metadata": {},
   "outputs": [],
   "source": [
    "def processTime(timeVector, toolboxes):\n",
    "    \n",
    "    time_list = []\n",
    "    \n",
    "    \n",
    "    tboxesFlat = [item for sublist in toolboxes for item in sublist]\n",
    "    uniqueToolboxes = list(set(tboxesFlat)) \n",
    "    \n",
    "    for toolbox in uniqueToolboxes:\n",
    "        timeTbx = []    # time vector for toolbox\n",
    "        \n",
    "        # Calculate toolbox specific time vector\n",
    "        cc = 0\n",
    "        for tbx in toolboxes:\n",
    "            if toolbox in tbx:\n",
    "                timeTbx.append(timeVector[2*cc])   #start time\n",
    "                timeTbx.append(timeVector[2*cc+1]) #end time\n",
    "            cc = cc + 1;\n",
    "    \n",
    "        time_list.append(timeTbx)\n",
    "        \n",
    "    return uniqueToolboxes, time_list"
   ]
  },
  {
   "cell_type": "code",
   "execution_count": 169,
   "metadata": {},
   "outputs": [
    {
     "data": {
      "text/plain": [
       "[0, 9, 10, 11]"
      ]
     },
     "execution_count": 169,
     "metadata": {},
     "output_type": "execute_result"
    }
   ],
   "source": [
    "tlist = [0, 4, 6, 9, 3, 7, 10, 11]\n",
    "mergeTimeStamps(tlist)"
   ]
  },
  {
   "cell_type": "code",
   "execution_count": 193,
   "metadata": {},
   "outputs": [
    {
     "name": "stdout",
     "output_type": "stream",
     "text": [
      "matlab\n",
      "[datetime.datetime(2020, 6, 16, 16, 30), datetime.datetime(2020, 6, 16, 16, 45), datetime.datetime(2020, 6, 16, 16, 22), datetime.datetime(2020, 6, 16, 18, 5)]\n",
      "simulink\n",
      "[datetime.datetime(2020, 6, 16, 16, 30), datetime.datetime(2020, 6, 16, 16, 45)]\n",
      "matlab\n",
      "simulink\n"
     ]
    }
   ],
   "source": [
    "tboxes, time_list = processTime(timeVector, toolboxes)\n",
    "tboxes\n",
    "for tbx in tboxes:\n",
    "    print(tbx)"
   ]
  },
  {
   "cell_type": "code",
   "execution_count": 137,
   "metadata": {},
   "outputs": [
    {
     "name": "stdout",
     "output_type": "stream",
     "text": [
      "[0, 1, 3, 4, 5]\n",
      "1\n",
      "3\n",
      "5\n"
     ]
    }
   ],
   "source": [
    "isActive = [True]*6\n",
    "isActive[2] = False\n",
    "indices = range(0,6)\n",
    "\n",
    "res = [idx for idx in indices if isActive[idx]]\n",
    "print(res)\n",
    "\n",
    "for a in [1,3,5]:\n",
    "    print(a)"
   ]
  },
  {
   "cell_type": "code",
   "execution_count": 67,
   "metadata": {},
   "outputs": [
    {
     "data": {
      "text/plain": [
       "['matlab', 'simulink']"
      ]
     },
     "execution_count": 67,
     "metadata": {},
     "output_type": "execute_result"
    }
   ],
   "source": [
    "myString = '[matlab,simulink]'\n",
    "#myString = \"[1, 2, 3, 4, 5]\"\n",
    "res = myString.strip('][').split(',')   # use .split(', ') if additional space\n",
    "res"
   ]
  },
  {
   "cell_type": "code",
   "execution_count": 72,
   "metadata": {},
   "outputs": [
    {
     "data": {
      "text/plain": [
       "'16.06.2020 16:22'"
      ]
     },
     "metadata": {},
     "output_type": "display_data"
    }
   ],
   "source": [
    "myString = \"$START,13828,40913439,27 (R2020) Update 1,16.06.2020 16:22\"\n",
    "dateString = myString.split(',')[4]\n",
    "display(dateString)"
   ]
  },
  {
   "cell_type": "code",
   "execution_count": 89,
   "metadata": {},
   "outputs": [
    {
     "data": {
      "text/plain": [
       "1.1333333333333333"
      ]
     },
     "metadata": {},
     "output_type": "display_data"
    },
    {
     "data": {
      "text/plain": [
       "'16.06.2020 17:30'"
      ]
     },
     "execution_count": 89,
     "metadata": {},
     "output_type": "execute_result"
    }
   ],
   "source": [
    "time0 = datetime.strptime(dateString, \"%d.%m.%Y %H:%M\")\n",
    "time1 = datetime(2020, 6, 16, 17, 30)\n",
    "\n",
    "dt = time1 - time0\n",
    "display(dt.total_seconds()/(60*60))  \n",
    "\n",
    "time1.strftime(\"%d.%m.%Y %H:%M\")"
   ]
  },
  {
   "cell_type": "code",
   "execution_count": 151,
   "metadata": {},
   "outputs": [
    {
     "name": "stdout",
     "output_type": "stream",
     "text": [
      "yes\n"
     ]
    },
    {
     "data": {
      "text/plain": [
       "4"
      ]
     },
     "execution_count": 151,
     "metadata": {},
     "output_type": "execute_result"
    }
   ],
   "source": [
    "isActive = [False] * 8\n",
    "isActive[2] = False\n",
    "isActive[4] = True\n",
    "\n",
    "if any(isActive):\n",
    "    print(\"yes\")\n",
    "    \n",
    "isActive.index(True)"
   ]
  },
  {
   "cell_type": "code",
   "execution_count": 158,
   "metadata": {},
   "outputs": [
    {
     "data": {
      "text/plain": [
       "[1, 2, 3, 4]"
      ]
     },
     "execution_count": 158,
     "metadata": {},
     "output_type": "execute_result"
    }
   ],
   "source": [
    "list1 = [1, 2]\n",
    "list2 = [3, 4]\n",
    "\n",
    "list1 + list2"
   ]
  },
  {
   "cell_type": "code",
   "execution_count": 40,
   "metadata": {},
   "outputs": [
    {
     "name": "stdout",
     "output_type": "stream",
     "text": [
      "yes\n"
     ]
    }
   ],
   "source": [
    "if 12 in myDict:\n",
    "    print('yes')"
   ]
  },
  {
   "cell_type": "code",
   "execution_count": 173,
   "metadata": {},
   "outputs": [
    {
     "ename": "TypeError",
     "evalue": "'bool' object is not iterable",
     "output_type": "error",
     "traceback": [
      "\u001b[0;31m---------------------------------------------------------------------------\u001b[0m",
      "\u001b[0;31mTypeError\u001b[0m                                 Traceback (most recent call last)",
      "\u001b[0;32m<ipython-input-173-63af0dba616f>\u001b[0m in \u001b[0;36m<module>\u001b[0;34m()\u001b[0m\n\u001b[0;32m----> 1\u001b[0;31m \u001b[0many\u001b[0m\u001b[0;34m(\u001b[0m\u001b[0;34m[\u001b[0m\u001b[0;34m'matlab'\u001b[0m\u001b[0;34m,\u001b[0m \u001b[0;34m'simulink'\u001b[0m\u001b[0;34m]\u001b[0m \u001b[0;34m==\u001b[0m \u001b[0;34m'simulink'\u001b[0m\u001b[0;34m)\u001b[0m\u001b[0;34m\u001b[0m\u001b[0m\n\u001b[0m",
      "\u001b[0;31mTypeError\u001b[0m: 'bool' object is not iterable"
     ]
    }
   ],
   "source": [
    "any(['matlab', 'simulink'] == 'simulink')"
   ]
  },
  {
   "cell_type": "code",
   "execution_count": null,
   "metadata": {},
   "outputs": [],
   "source": []
  }
 ],
 "metadata": {
  "kernelspec": {
   "display_name": "Python 3",
   "language": "python",
   "name": "python3"
  },
  "language_info": {
   "codemirror_mode": {
    "name": "ipython",
    "version": 3
   },
   "file_extension": ".py",
   "mimetype": "text/x-python",
   "name": "python",
   "nbconvert_exporter": "python",
   "pygments_lexer": "ipython3",
   "version": "3.7.0"
  }
 },
 "nbformat": 4,
 "nbformat_minor": 2
}
