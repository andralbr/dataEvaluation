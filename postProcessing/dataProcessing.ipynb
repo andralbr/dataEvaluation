{
 "cells": [
  {
   "cell_type": "code",
   "execution_count": 10,
   "metadata": {},
   "outputs": [],
   "source": [
    "# import libraries\n",
    "from datetime import date, datetime   # Convert date string to datetime format and back"
   ]
  },
  {
   "cell_type": "code",
   "execution_count": 2,
   "metadata": {},
   "outputs": [],
   "source": [
    "fileName = \"data.csv\""
   ]
  },
  {
   "cell_type": "code",
   "execution_count": 3,
   "metadata": {},
   "outputs": [
    {
     "name": "stdout",
     "output_type": "stream",
     "text": [
      "Total number of lines = 5\n",
      "Valid lines = 4\n",
      "Non-terminated processes = 1\n"
     ]
    }
   ],
   "source": [
    "# Return: validLines, numberLines\n",
    "openDict = {}    # Dictionary that contains <processID, lineNumber> for a start process.\n",
    "validLines = []  # Lines numbers of valid lines in file\n",
    "\n",
    "\n",
    "with open(fileName, 'r') as readFile:\n",
    "    lineNumber = 0\n",
    "    for line in readFile:\n",
    "        # ------------------------------------------------------------\n",
    "        # START line found => add {processID: lineNumber} to openDict\n",
    "        # ------------------------------------------------------------\n",
    "        if line.startswith('$START'):\n",
    "            # Get process ID\n",
    "            processID = line.split(',')[1]\n",
    "            # Add {processID: lineNumber} entry to openDict\n",
    "            openDict[processID] = lineNumber\n",
    "\n",
    "        # ------------------------------------------------------    \n",
    "        # END line found:\n",
    "        #     - Check if start entry for processID exists\n",
    "        #     - Add line of START and END entry to 'validLines'\n",
    "        #     - Delete START entry from dict openDict\n",
    "        # ------------------------------------------------------\n",
    "        elif line.startswith(\"$END\"):\n",
    "            # Check if process ID for END process has a corresponding start time\n",
    "            # i.e. check if processID entry exists in openDict\n",
    "            processID = line.split(',')[1]\n",
    "            if processID in openDict:\n",
    "                validLines.append(openDict[processID])\n",
    "                validLines.append(lineNumber)\n",
    "                del openDict[processID]\n",
    "            \n",
    "        lineNumber = lineNumber + 1\n",
    "\n",
    "numberLines = lineNumber;\n",
    "print(\"Total number of lines = \" + str(lineNumber))\n",
    "print(\"Valid lines = \" + str(len(validLines)))\n",
    "print(\"Non-terminated processes = \" + str(len(openDict)))"
   ]
  },
  {
   "cell_type": "code",
   "execution_count": 34,
   "metadata": {},
   "outputs": [],
   "source": [
    "def determineValidEntries( fileName ):\n",
    "    print(\"Check for valid entries in log file \" + str(fileName) + \"...\")\n",
    "      # Return: validLines, numberLines\n",
    "    openDict = {}    # Dictionary that contains <processID, lineNumber> for a start process.\n",
    "    validLines = []  # Lines numbers of valid lines in file\n",
    "\n",
    "\n",
    "    with open(fileName, 'r') as readFile:\n",
    "        lineNumber = 0\n",
    "        for line in readFile:\n",
    "            # ------------------------------------------------------------\n",
    "            # START line found => add {processID: lineNumber} to openDict\n",
    "            # ------------------------------------------------------------\n",
    "            if line.startswith('$START'):\n",
    "                # Get process ID\n",
    "                processID = line.split(',')[1]\n",
    "                # Add {processID: lineNumber} entry to openDict\n",
    "                openDict[processID] = lineNumber\n",
    "\n",
    "            # ------------------------------------------------------    \n",
    "            # END line found:\n",
    "            #     - Check if start entry for processID exists\n",
    "            #     - Add line of START and END entry to 'validLines'\n",
    "            #     - Delete START entry from dict openDict\n",
    "            # ------------------------------------------------------\n",
    "            elif line.startswith(\"$END\"):\n",
    "                # Check if process ID for END process has a corresponding start time\n",
    "                # i.e. check if processID entry exists in openDict\n",
    "                processID = line.split(',')[1]\n",
    "                if processID in openDict:\n",
    "                    validLines.append(openDict[processID])\n",
    "                    validLines.append(lineNumber)\n",
    "                    del openDict[processID]\n",
    "\n",
    "            lineNumber = lineNumber + 1\n",
    "\n",
    "    numberLines = lineNumber;\n",
    "    \n",
    "    print(\"\\tTotal number of lines = \" + str(lineNumber))\n",
    "    print(\"\\tValid lines = \" + str(len(validLines)))\n",
    "    print(\"\\tNon-terminated processes = \" + str(len(openDict))) \n",
    "    \n",
    "    return validLines, numberLines"
   ]
  },
  {
   "cell_type": "code",
   "execution_count": 35,
   "metadata": {},
   "outputs": [
    {
     "name": "stdout",
     "output_type": "stream",
     "text": [
      "Check for valid entries in log file data.csv...\n",
      "\tTotal number of lines = 5\n",
      "\tValid lines = 4\n",
      "\tNon-terminated processes = 1\n"
     ]
    }
   ],
   "source": [
    "validLines, numberLines = determineValidEntries(fileName)"
   ]
  },
  {
   "cell_type": "code",
   "execution_count": 29,
   "metadata": {},
   "outputs": [
    {
     "name": "stdout",
     "output_type": "stream",
     "text": [
      "['matlab', 'simulink']\n",
      "['matlab']\n",
      "simulink: 16.06.2020 16:30, 16.06.2020 16:45\n",
      "matlab: 16.06.2020 16:22, 16.06.2020 18:05\n"
     ]
    }
   ],
   "source": [
    "lineValid = [False] * numberLines\n",
    "for idx in validLines:\n",
    "    lineValid[idx] = True\n",
    "    \n",
    "noInstances = 0      # Counts how many instances are open at the same time    \n",
    "timeMap = {}      # {ProcessID: time}\n",
    "timeVector = []\n",
    "toolboxes = []\n",
    "\n",
    "with open(fileName, 'r') as readFile:\n",
    "    lineNumber = 0\n",
    "    for line in readFile:\n",
    "        # 'non valid' lines are ignored\n",
    "        if lineValid[lineNumber]:\n",
    "            \n",
    "            # ------------------------------------------------------------\n",
    "            # START line found:\n",
    "            #     - add {processID: start time} to timeMap dict.\n",
    "            # ------------------------------------------------------------\n",
    "            if line.startswith('$START'):\n",
    "                line = line.rstrip('\\n')  # remove \\n at end of line\n",
    "                \n",
    "                # Get process ID and time stamp\n",
    "                substr = line.split(',')  # split in substrings\n",
    "                processID = substr[1]     # get process ID\n",
    "                timeStamp = substr[4]     # get time stamp and convert to datetime format\n",
    "                timeStamp = datetime.strptime(timeStamp, \"%d.%m.%Y %H:%M\")\n",
    "                \n",
    "                # Add process ID and time stamp to dict\n",
    "                timeMap[processID] = timeStamp\n",
    "                \n",
    "                # Increase number of active instances\n",
    "                noInstances = noInstances + 1\n",
    "        \n",
    "            # -----------------------------------------------------\n",
    "            # END line found:\n",
    "            # If the last active instance:\n",
    "            #    - Process time stamps and write output data\n",
    "            # else\n",
    "            #    - Add [start, end time] of process to timeVector\n",
    "            #    - Add toolboxes of process to toolboxes\n",
    "            #    Interpretation:\n",
    "            #    timeVector[2n], timeVector[2n+1] is the start/end time\n",
    "            #    of a process with toolboxes toolboxes[n].\n",
    "            # -----------------------------------------------------\n",
    "        \n",
    "            elif line.startswith(\"$END\"):\n",
    "                \n",
    "                # Get data\n",
    "                line = line.rstrip('\\n')  # remove \\n at end of line\n",
    "                \n",
    "                substr = line.split(',')  # split in substrings\n",
    "                \n",
    "                processID = substr[1]\n",
    "                licenseNo = substr[2]\n",
    "                version   = substr[3]\n",
    "                endTime = substr[4]\n",
    "                endTime = datetime.strptime(endTime, \"%d.%m.%Y %H:%M\")\n",
    "                tbox = substr[5].strip('][').split(':')\n",
    "                print(tbox)\n",
    "                \n",
    "                # Add start - end time and toolboxes\n",
    "                if not processID in timeMap:\n",
    "                    print(\"ERROR: (line number = \" + str(lineNumber) + \")\" )\n",
    "                    print(\"No start time found for the end timestamp.\")\n",
    "                    #return\n",
    "                else:\n",
    "                    startTime = timeMap[processID]\n",
    "                    timeVector.append(startTime)\n",
    "                    timeVector.append(endTime)\n",
    "                     \n",
    "                    toolboxes.append(tbox)\n",
    "                \n",
    "                # One instance closed by \"END\" => decrease active instance counter\n",
    "                noInstances = noInstances - 1\n",
    "                \n",
    "                # ---------------------------------------------------\n",
    "                # If was last active instance: process & output data\n",
    "                # ---------------------------------------------------\n",
    "                if noInstances == 0:\n",
    "                    toolboxes, timeVectors = processTime(timeVector, toolboxes)\n",
    "                       \n",
    "                    for cc in range(len(toolboxes)):\n",
    "                        toolbox = toolboxes[cc]\n",
    "                        noIntervals = int(len(timeVectors[cc])/2)\n",
    "                        \n",
    "                        for cy in range(noIntervals):\n",
    "                            startTime = timeVectors[cc][2*cy]\n",
    "                            endTime = timeVectors[cc][2*cy+1]\n",
    "                            \n",
    "                            print(toolboxes[cc] + \": \"\n",
    "                                  + startTime.strftime(\"%d.%m.%Y %H:%M\") + \", \"\n",
    "                                  + endTime.strftime(\"%d.%m.%Y %H:%M\"))\n",
    "                            \n",
    "                        #print(toolboxes[cc] + \": \")\n",
    "                        #print( str(timeVectors[cc]))\n",
    "                        \n",
    "    \n",
    "        lineNumber = lineNumber + 1;"
   ]
  },
  {
   "cell_type": "code",
   "execution_count": 39,
   "metadata": {},
   "outputs": [],
   "source": [
    "def processData(validLines, numberLines):\n",
    "    lineValid = [False] * numberLines\n",
    "    for idx in validLines:\n",
    "        lineValid[idx] = True\n",
    "\n",
    "    noInstances = 0      # Counts how many instances are open at the same time    \n",
    "    timeMap = {}      # {ProcessID: time}\n",
    "    timeVector = []\n",
    "    toolboxes = []\n",
    "\n",
    "    with open(fileName, 'r') as readFile:\n",
    "        lineNumber = 0\n",
    "        for line in readFile:\n",
    "            # 'non valid' lines are ignored\n",
    "            if lineValid[lineNumber]:\n",
    "\n",
    "                # ------------------------------------------------------------\n",
    "                # START line found:\n",
    "                #     - add {processID: start time} to timeMap dict.\n",
    "                # ------------------------------------------------------------\n",
    "                if line.startswith('$START'):\n",
    "                    line = line.rstrip('\\n')  # remove \\n at end of line\n",
    "\n",
    "                    # Get process ID and time stamp\n",
    "                    substr = line.split(',')  # split in substrings\n",
    "                    processID = substr[1]     # get process ID\n",
    "                    timeStamp = substr[4]     # get time stamp and convert to datetime format\n",
    "                    timeStamp = datetime.strptime(timeStamp, \"%d.%m.%Y %H:%M\")\n",
    "\n",
    "                    # Add process ID and time stamp to dict\n",
    "                    timeMap[processID] = timeStamp\n",
    "\n",
    "                    # Increase number of active instances\n",
    "                    noInstances = noInstances + 1\n",
    "\n",
    "                # -----------------------------------------------------\n",
    "                # END line found:\n",
    "                # If the last active instance:\n",
    "                #    - Process time stamps and write output data\n",
    "                # else\n",
    "                #    - Add [start, end time] of process to timeVector\n",
    "                #    - Add toolboxes of process to toolboxes\n",
    "                #    Interpretation:\n",
    "                #    timeVector[2n], timeVector[2n+1] is the start/end time\n",
    "                #    of a process with toolboxes toolboxes[n].\n",
    "                # -----------------------------------------------------\n",
    "\n",
    "                elif line.startswith(\"$END\"):\n",
    "\n",
    "                    # Get data\n",
    "                    line = line.rstrip('\\n')  # remove \\n at end of line\n",
    "\n",
    "                    substr = line.split(',')  # split in substrings\n",
    "\n",
    "                    processID = substr[1]\n",
    "                    licenseNo = substr[2]\n",
    "                    version   = substr[3]\n",
    "                    endTime = substr[4]\n",
    "                    endTime = datetime.strptime(endTime, \"%d.%m.%Y %H:%M\")\n",
    "                    tbox = substr[5].strip('][').split(':')\n",
    "\n",
    "                    # Add start - end time and toolboxes\n",
    "                    if not processID in timeMap:\n",
    "                        print(\"ERROR: (line number = \" + str(lineNumber) + \")\" )\n",
    "                        print(\"No start time found for the end timestamp.\")\n",
    "                        #return\n",
    "                    else:\n",
    "                        startTime = timeMap[processID]\n",
    "                        timeVector.append(startTime)\n",
    "                        timeVector.append(endTime)\n",
    "\n",
    "                        toolboxes.append(tbox)\n",
    "\n",
    "                    # One instance closed by \"END\" => decrease active instance counter\n",
    "                    noInstances = noInstances - 1\n",
    "\n",
    "                    # ---------------------------------------------------\n",
    "                    # If was last active instance: process & output data\n",
    "                    # ---------------------------------------------------\n",
    "                    if noInstances == 0:\n",
    "                        toolboxes, timeVectors = processTime(timeVector, toolboxes)\n",
    "\n",
    "                        for cc in range(len(toolboxes)):\n",
    "                            toolbox = toolboxes[cc]\n",
    "                            noIntervals = int(len(timeVectors[cc])/2)\n",
    "\n",
    "                            for cy in range(noIntervals):\n",
    "                                startTime = timeVectors[cc][2*cy]\n",
    "                                endTime = timeVectors[cc][2*cy+1]\n",
    "\n",
    "                                print(toolboxes[cc] + \": \"\n",
    "                                      + startTime.strftime(\"%d.%m.%Y %H:%M\") + \", \"\n",
    "                                      + endTime.strftime(\"%d.%m.%Y %H:%M\"))\n",
    "\n",
    "                            #print(toolboxes[cc] + \": \")\n",
    "                            #print( str(timeVectors[cc]))\n",
    "\n",
    "\n",
    "            lineNumber = lineNumber + 1;"
   ]
  },
  {
   "cell_type": "code",
   "execution_count": 40,
   "metadata": {},
   "outputs": [
    {
     "name": "stdout",
     "output_type": "stream",
     "text": [
      "simulink: 16.06.2020 16:30, 16.06.2020 16:45\n",
      "matlab: 16.06.2020 16:22, 16.06.2020 18:05\n"
     ]
    }
   ],
   "source": [
    "processData(validLines, numberLines)"
   ]
  },
  {
   "cell_type": "code",
   "execution_count": 28,
   "metadata": {},
   "outputs": [],
   "source": [
    "####################################################################\n",
    "## mergeTimeStamps()\n",
    "##\n",
    "## Detect and merge overlapping time stamps.\n",
    "##\n",
    "## Input:\n",
    "##    - timeStamps: List of time stamps. Time stamp k:\n",
    "##      start_time = timeStamps[2*k], end_time = timeStamps[2*k+1]\n",
    "##\n",
    "## Output:\n",
    "##    - mergedTimeArray: List of non-overlapping time stamps.\n",
    "##\n",
    "## Example: \n",
    "##    timeStamps = [0, 4, 6, 9, 3, 7, 10, 11]\n",
    "##    => mergedTimeArray = [0, 9, 10, 11]\n",
    "##    (Works analogously if entries are of format datetime()).\n",
    "####################################################################\n",
    "\n",
    "def mergeTimeStamps( timeStamps ):\n",
    "    mergedTimeArray = []   # If a non-overlapping time stamp found, it\n",
    "                           # will be added to this output array.\n",
    "    \n",
    "    if len(timeStamps) % 2 != 0:\n",
    "        print(\"[mergeTimeStamps] ERROR: Unexpected number of timestamp entries.\")\n",
    "        return;\n",
    "    \n",
    "    noElements = int(len(timeStamps)/2)   # Total number of timestamps\n",
    "    indices = range(0, noElements)        # Indices for loop over timestamps\n",
    "    activeElements = [True] * noElements  # Indicates, which timestamp elements are yet unprocessed\n",
    "    \n",
    "    # Select first element to be processed\n",
    "    element = [timeStamps[0], timeStamps[1]]\n",
    "    activeElements[0] = False              \n",
    "    \n",
    "    # While there are still unprocessed elements in timeStamps vector\n",
    "    while any(activeElements):   \n",
    "        afterMerge = False \n",
    "        \n",
    "        # Check timeStamp 'element' for overlap with all other (active)\n",
    "        # elements of timeStamp vector.\n",
    "        for n in [idx for idx in indices if activeElements[idx]]:\n",
    "            \n",
    "            timePair = [timeStamps[2*n], timeStamps[2*n + 1]]\n",
    "            \n",
    "            # If overlap found => merge time stamps\n",
    "            if not (timePair[0] > element[1] or timePair[1] < element[0]):\n",
    "                element = [min(element[0], timePair[0]), max(element[1], timePair[1])]\n",
    "                activeElements[n] = False\n",
    "                afterMerge = True\n",
    "                break            # The test will start over with the new merged element\n",
    "        \n",
    "        # If no overlap with any other time interval found:\n",
    "        # Add element to output array, and set the next unprocessed timeStamp as the\n",
    "        # element to be processed.\n",
    "        if not afterMerge:\n",
    "            mergedTimeArray = mergedTimeArray + element\n",
    "            \n",
    "            idx = activeElements.index(True)\n",
    "            element = [timeStamps[2*idx], timeStamps[2*idx+1]]\n",
    "    \n",
    "    # All elements have been processed, add last element to output array.\n",
    "    mergedTimeArray = mergedTimeArray + element\n",
    "    \n",
    "    return mergedTimeArray\n",
    "    "
   ]
  },
  {
   "cell_type": "code",
   "execution_count": 26,
   "metadata": {},
   "outputs": [],
   "source": [
    "#######################################################################\n",
    "## processTime()\n",
    "##\n",
    "## Converts a list of time stamps and associated toolboxes\n",
    "## to a list of unique time stamps for each toolbox.\n",
    "##\n",
    "## Input parameters:\n",
    "##    - timeVector: Vector of start/end times. Time stamp k\n",
    "##        is formed by:\n",
    "##                  start_time(k) = timeVector[2k]\n",
    "##                  end_time(k) = timeVector[2k+1]\n",
    "##    - toolboxes: List of toolboxes associated with a time stamp.\n",
    "##      List of toolboxes associated with time stamp k:\n",
    "##      toolboxes[k]\n",
    "##\n",
    "## Output parameters:\n",
    "##    - uniqueToolboxes: List of unique toolbox names.\n",
    "##    - time_list: List of start/end times vectors. \n",
    "##      time_list[k] is the start/end time vector for \n",
    "##      toolbox uniqueToolboxes[k]. A vector can consist of multiple\n",
    "##      time stamps (multiple start/end time pairs).\n",
    "## \n",
    "## Example:\n",
    "## Input\n",
    "##       timeVector = [datetime(2020,6,16,16,30),\n",
    "##                     datetime(2020,6,16,16,45),\n",
    "##                     datetime(2020,6,16,16,22),\n",
    "##                     datetime(2020,6,16,18,5)]\n",
    "##       toolboxes = [['matlab', 'simulink'],\n",
    "##                    ['matlab']]\n",
    "##\n",
    "## Output\n",
    "##       uniqueToolboxes = ['simulink', 'matlab']\n",
    "##       time_list = [[datetime(2020,6,16,16,30), datetime(2020,6,16,16,45)],\n",
    "##                    [datetime(2020,6,16,16,22), datetime(2020,6,16,18,5)]]\n",
    "#############################################################################\n",
    "\n",
    "\n",
    "def processTime(timeVector, toolboxes):\n",
    "    \n",
    "    time_list = []\n",
    "    \n",
    "    # Determine unique toolbox names\n",
    "    tboxesFlat = [item for sublist in toolboxes for item in sublist]\n",
    "    uniqueToolboxes = list(set(tboxesFlat)) \n",
    "    \n",
    "    # For each toolbox: Create an associated time stamp vector.\n",
    "    for toolbox in uniqueToolboxes:\n",
    "        timeTbx = []    \n",
    "             \n",
    "        cc = 0\n",
    "        \n",
    "        # Loop over all time stamps \n",
    "        # (specifically: list of toolboxes for each time stamp)\n",
    "        for tbxList in toolboxes:\n",
    "            # If the time stamp included the current toolbox:\n",
    "            # add time stamp to toolbox time vector.\n",
    "            if toolbox in tbxList:\n",
    "                timeTbx.append(timeVector[2*cc])   #start time\n",
    "                timeTbx.append(timeVector[2*cc+1]) #end time\n",
    "            cc = cc + 1;\n",
    "        \n",
    "        # Detect and merge overlapping time stamps\n",
    "        timeTbx = mergeTimeStamps(timeTbx)\n",
    "        \n",
    "        # Add to output vector\n",
    "        time_list.append(timeTbx)\n",
    "        \n",
    "    return uniqueToolboxes, time_list"
   ]
  },
  {
   "cell_type": "code",
   "execution_count": 7,
   "metadata": {},
   "outputs": [
    {
     "data": {
      "text/plain": [
       "[0, 9, 10, 11]"
      ]
     },
     "execution_count": 7,
     "metadata": {},
     "output_type": "execute_result"
    }
   ],
   "source": [
    "tlist = [0, 4, 6, 9, 3, 7, 10, 11]\n",
    "mergeTimeStamps(tlist)"
   ]
  },
  {
   "cell_type": "code",
   "execution_count": 21,
   "metadata": {},
   "outputs": [
    {
     "data": {
      "text/plain": [
       "[datetime.datetime(2020, 6, 16, 16, 22), datetime.datetime(2020, 6, 16, 18, 5)]"
      ]
     },
     "execution_count": 21,
     "metadata": {},
     "output_type": "execute_result"
    }
   ],
   "source": [
    "tlist = [datetime(2020, 6, 16, 16, 30),\n",
    "        datetime(2020,6,16,16,45),\n",
    "        datetime(2020,6,16,16,22),\n",
    "        datetime(2020,6,16,18,5)]\n",
    "mergeTimeStamps(tlist)"
   ]
  },
  {
   "cell_type": "code",
   "execution_count": 8,
   "metadata": {},
   "outputs": [
    {
     "ename": "NameError",
     "evalue": "name 'timeVector' is not defined",
     "output_type": "error",
     "traceback": [
      "\u001b[0;31m---------------------------------------------------------------------------\u001b[0m",
      "\u001b[0;31mNameError\u001b[0m                                 Traceback (most recent call last)",
      "\u001b[0;32m<ipython-input-8-05c7275867c3>\u001b[0m in \u001b[0;36m<module>\u001b[0;34m()\u001b[0m\n\u001b[0;32m----> 1\u001b[0;31m \u001b[0mtboxes\u001b[0m\u001b[0;34m,\u001b[0m \u001b[0mtime_list\u001b[0m \u001b[0;34m=\u001b[0m \u001b[0mprocessTime\u001b[0m\u001b[0;34m(\u001b[0m\u001b[0mtimeVector\u001b[0m\u001b[0;34m,\u001b[0m \u001b[0mtoolboxes\u001b[0m\u001b[0;34m)\u001b[0m\u001b[0;34m\u001b[0m\u001b[0m\n\u001b[0m\u001b[1;32m      2\u001b[0m \u001b[0mtboxes\u001b[0m\u001b[0;34m\u001b[0m\u001b[0m\n\u001b[1;32m      3\u001b[0m \u001b[0;32mfor\u001b[0m \u001b[0mtbx\u001b[0m \u001b[0;32min\u001b[0m \u001b[0mtboxes\u001b[0m\u001b[0;34m:\u001b[0m\u001b[0;34m\u001b[0m\u001b[0m\n\u001b[1;32m      4\u001b[0m     \u001b[0mprint\u001b[0m\u001b[0;34m(\u001b[0m\u001b[0mtbx\u001b[0m\u001b[0;34m)\u001b[0m\u001b[0;34m\u001b[0m\u001b[0m\n",
      "\u001b[0;31mNameError\u001b[0m: name 'timeVector' is not defined"
     ]
    }
   ],
   "source": [
    "tboxes, time_list = processTime(timeVector, toolboxes)\n",
    "tboxes\n",
    "for tbx in tboxes:\n",
    "    print(tbx)"
   ]
  },
  {
   "cell_type": "code",
   "execution_count": 137,
   "metadata": {},
   "outputs": [
    {
     "name": "stdout",
     "output_type": "stream",
     "text": [
      "[0, 1, 3, 4, 5]\n",
      "1\n",
      "3\n",
      "5\n"
     ]
    }
   ],
   "source": [
    "isActive = [True]*6\n",
    "isActive[2] = False\n",
    "indices = range(0,6)\n",
    "\n",
    "res = [idx for idx in indices if isActive[idx]]\n",
    "print(res)\n",
    "\n",
    "for a in [1,3,5]:\n",
    "    print(a)"
   ]
  },
  {
   "cell_type": "code",
   "execution_count": 67,
   "metadata": {},
   "outputs": [
    {
     "data": {
      "text/plain": [
       "['matlab', 'simulink']"
      ]
     },
     "execution_count": 67,
     "metadata": {},
     "output_type": "execute_result"
    }
   ],
   "source": [
    "myString = '[matlab,simulink]'\n",
    "#myString = \"[1, 2, 3, 4, 5]\"\n",
    "res = myString.strip('][').split(',')   # use .split(', ') if additional space\n",
    "res"
   ]
  },
  {
   "cell_type": "code",
   "execution_count": 72,
   "metadata": {},
   "outputs": [
    {
     "data": {
      "text/plain": [
       "'16.06.2020 16:22'"
      ]
     },
     "metadata": {},
     "output_type": "display_data"
    }
   ],
   "source": [
    "myString = \"$START,13828,40913439,27 (R2020) Update 1,16.06.2020 16:22\"\n",
    "dateString = myString.split(',')[4]\n",
    "display(dateString)"
   ]
  },
  {
   "cell_type": "code",
   "execution_count": 89,
   "metadata": {},
   "outputs": [
    {
     "data": {
      "text/plain": [
       "1.1333333333333333"
      ]
     },
     "metadata": {},
     "output_type": "display_data"
    },
    {
     "data": {
      "text/plain": [
       "'16.06.2020 17:30'"
      ]
     },
     "execution_count": 89,
     "metadata": {},
     "output_type": "execute_result"
    }
   ],
   "source": [
    "time0 = datetime.strptime(dateString, \"%d.%m.%Y %H:%M\")\n",
    "time1 = datetime(2020, 6, 16, 17, 30)\n",
    "\n",
    "dt = time1 - time0\n",
    "display(dt.total_seconds()/(60*60))  \n",
    "\n",
    "time1.strftime(\"%d.%m.%Y %H:%M\")"
   ]
  },
  {
   "cell_type": "code",
   "execution_count": 151,
   "metadata": {},
   "outputs": [
    {
     "name": "stdout",
     "output_type": "stream",
     "text": [
      "yes\n"
     ]
    },
    {
     "data": {
      "text/plain": [
       "4"
      ]
     },
     "execution_count": 151,
     "metadata": {},
     "output_type": "execute_result"
    }
   ],
   "source": [
    "isActive = [False] * 8\n",
    "isActive[2] = False\n",
    "isActive[4] = True\n",
    "\n",
    "if any(isActive):\n",
    "    print(\"yes\")\n",
    "    \n",
    "isActive.index(True)"
   ]
  },
  {
   "cell_type": "code",
   "execution_count": 30,
   "metadata": {},
   "outputs": [],
   "source": [
    "class LogFileProcessor:\n",
    "    \n",
    "    def __init__(self, name):\n",
    "        self.name = name\n",
    "        \n",
    "    def print(self):\n",
    "        print(\"Name = \" + self.name)\n",
    "        \n",
    "    "
   ]
  },
  {
   "cell_type": "code",
   "execution_count": 31,
   "metadata": {},
   "outputs": [],
   "source": [
    "logFileProcessor = LogFileProcessor(\"Janice\")"
   ]
  },
  {
   "cell_type": "code",
   "execution_count": 32,
   "metadata": {},
   "outputs": [
    {
     "name": "stdout",
     "output_type": "stream",
     "text": [
      "Name = Janice\n"
     ]
    }
   ],
   "source": [
    "logFileProcessor.print()"
   ]
  },
  {
   "cell_type": "code",
   "execution_count": null,
   "metadata": {},
   "outputs": [],
   "source": []
  }
 ],
 "metadata": {
  "kernelspec": {
   "display_name": "Python 3",
   "language": "python",
   "name": "python3"
  },
  "language_info": {
   "codemirror_mode": {
    "name": "ipython",
    "version": 3
   },
   "file_extension": ".py",
   "mimetype": "text/x-python",
   "name": "python",
   "nbconvert_exporter": "python",
   "pygments_lexer": "ipython3",
   "version": "3.7.0"
  }
 },
 "nbformat": 4,
 "nbformat_minor": 2
}
